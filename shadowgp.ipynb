{
 "cells": [
  {
   "cell_type": "markdown",
   "metadata": {},
   "source": [
    "# ShadowGP"
   ]
  },
  {
   "cell_type": "markdown",
   "metadata": {},
   "source": [
    "## Setup"
   ]
  },
  {
   "cell_type": "code",
   "execution_count": null,
   "metadata": {},
   "outputs": [],
   "source": [
    "!git clone https://github.com/isaacwasserman/Shadow-Removal-via-Generative-Priors\n",
    "!mv Shadow-Removal-via-Generative-Priors/* ."
   ]
  },
  {
   "cell_type": "code",
   "execution_count": null,
   "metadata": {},
   "outputs": [],
   "source": [
    "!pip install IPython\n",
    "!pip install gdown\n",
    "!pip install matplotlib\n",
    "!pip install numpy\n",
    "!pip install opencv-python\n",
    "!pip install pillow\n",
    "!pip install scikit-image\n",
    "!pip install torch\n",
    "!pip install torchvision"
   ]
  },
  {
   "cell_type": "code",
   "execution_count": null,
   "metadata": {},
   "outputs": [],
   "source": [
    "%%bash\n",
    "gdown --folder https://drive.google.com/drive/folders/1Rg5He8XIY8qP4JYPFRRGUIvfZUcqm8zt\n",
    "mv ShadowGP-Checkpoints/ checkpoint/\n",
    "tar -zxvf checkpoint/weights.tar.gz\n",
    "\n",
    "gdown --folder https://drive.google.com/drive/folders/1pLX9BIsG51XH5rnftXrO66dw1a2SKAnj\n",
    "unzip evaluation/input.zip -d evaluation\n",
    "unzip evaluation/gt.zip -d evaluation\n",
    "gdown --folder https://drive.google.com/drive/folders/1Rg5He8XIY8qP4JYPFRRGUIvfZUcqm8zt\n",
    "mv ShadowGP-Checkpoints/* checkpoint/\n",
    "tar -zxvf checkpoint/weights.tar.gz\n",
    "\n",
    "gdown --folder https://drive.google.com/drive/folders/1pLX9BIsG51XH5rnftXrO66dw1a2SKAnj\n",
    "rm -rf evaluation/__MACOSX\n",
    "unzip evaluation/input.zip -d evaluation\n",
    "rm -rf evaluation/__MACOSX\n",
    "unzip evaluation/gt.zip -d evaluation\n",
    "rm -rf evaluation/__MACOSX\n",
    "\n",
    "rm imgs/*\n",
    "mv evaluation/input/* imgs\n",
    "mkdir gts\n",
    "mv evaluation/gt/* gts\n",
    "rm -rf evaluation"
   ]
  }
 ],
 "metadata": {
  "kernelspec": {
   "display_name": "Python 3",
   "language": "python",
   "name": "python3"
  },
  "language_info": {
   "name": "python",
   "version": "3.10.12"
  }
 },
 "nbformat": 4,
 "nbformat_minor": 2
}
